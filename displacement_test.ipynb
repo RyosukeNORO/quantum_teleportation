{
 "cells": [
  {
   "cell_type": "code",
   "execution_count": 1,
   "metadata": {},
   "outputs": [],
   "source": [
    "import strawberryfields as sf\n",
    "from strawberryfields.ops import *\n",
    "\n",
    "import numpy as np\n",
    "import matplotlib.pyplot as plt\n",
    "import matplotlib as mpl\n",
    "from matplotlib import cm\n",
    "import math\n",
    "\n",
    "mpl.rcParams['figure.facecolor'] = 'white'"
   ]
  },
  {
   "cell_type": "code",
   "execution_count": 5,
   "metadata": {},
   "outputs": [
    {
     "data": {
      "image/png": "[encoded data removed]",
      "text/plain": [
       "<Figure size 432x288 with 1 Axes>"
      ]
     },
     "metadata": {},
     "output_type": "display_data"
    }
   ],
   "source": [
    "prog = sf.Program(2)\n",
    "\n",
    "alpha = -5\n",
    "r = np.abs(alpha)\n",
    "phi = np.angle(alpha)\n",
    "\n",
    "with prog.context as q:\n",
    "    Coherent(r, phi) | q[0]\n",
    "    Coherent(100) | q[1]\n",
    "\n",
    "    BSgate(math.acos(np.sqrt(0.99)), np.pi) | (q[0], q[1])\n",
    "\n",
    "eng = sf.Engine('gaussian')#, backend_options={\"cutoff_dim\": 15})\n",
    "state = eng.run(prog, shots=1, modes=None, compile_options={}).state\n",
    "\n",
    "quad_axis = np.linspace(-10, 10, 1000)\n",
    "W = state.wigner(mode=0, xvec=quad_axis * sf.hbar, pvec=quad_axis * sf.hbar)\n",
    "\n",
    "color_range = np.max(W.real)\n",
    "nrm = mpl.colors.Normalize(-color_range, color_range)\n",
    "plt.axes().set_aspect(\"equal\")\n",
    "plt.contourf(quad_axis, quad_axis, W, 60, cmap=cm.RdBu, norm=nrm)\n",
    "plt.xlabel(\"q\", fontsize=15)\n",
    "plt.ylabel(\"p\", fontsize=15)\n",
    "plt.title('displaced mode')\n",
    "plt.tight_layout()\n",
    "plt.show()"
   ]
  },
  {
   "cell_type": "code",
   "execution_count": null,
   "metadata": {},
   "outputs": [],
   "source": []
  }
 ],
 "metadata": {
  "kernelspec": {
   "display_name": "Python 3.9.7 ('base')",
   "language": "python",
   "name": "python3"
  },
  "language_info": {
   "codemirror_mode": {
    "name": "ipython",
    "version": 3
   },
   "file_extension": ".py",
   "mimetype": "text/x-python",
   "name": "python",
   "nbconvert_exporter": "python",
   "pygments_lexer": "ipython3",
   "version": "3.9.7"
  },
  "orig_nbformat": 4,
  "vscode": {
   "interpreter": {
    "hash": "8763cd9cb158e95a3b501921382d63952c7da3f72615a9d53453f84032e3f7cc"
   }
  }
 },
 "nbformat": 4,
 "nbformat_minor": 2
}
